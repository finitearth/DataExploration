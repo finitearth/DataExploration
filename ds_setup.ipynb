{
 "cells": [
  {
   "cell_type": "code",
   "execution_count": 11,
   "metadata": {},
   "outputs": [],
   "source": [
    "import pandas as pd\n",
    "from sklearn.preprocessing import LabelEncoder\n",
    "import xgboost as xgb\n",
    "\n",
    "from pickle import dump\n",
    "from utils import Dataset"
   ]
  },
  {
   "cell_type": "code",
   "execution_count": 12,
   "metadata": {},
   "outputs": [],
   "source": [
    "train_or_test = \"test\"\n",
    "\n",
    "encoder = \"onehot\"\n",
    "normalizer = \"standa\""
   ]
  },
  {
   "cell_type": "code",
   "execution_count": 24,
   "metadata": {},
   "outputs": [],
   "source": [
    "df = pd.read_csv(f\"pump_{train_or_test}.csv\")"
   ]
  },
  {
   "cell_type": "code",
   "execution_count": 14,
   "metadata": {},
   "outputs": [],
   "source": [
    "if train_or_test == \"train\":\n",
    "    ds = Dataset(encoder=encoder, normalizer=normalizer)\n",
    "else:\n",
    "    ds.reset_for_test()"
   ]
  },
  {
   "cell_type": "code",
   "execution_count": 15,
   "metadata": {},
   "outputs": [
    {
     "data": {
      "text/plain": [
       "8910"
      ]
     },
     "execution_count": 15,
     "metadata": {},
     "output_type": "execute_result"
    }
   ],
   "source": [
    "len(df)"
   ]
  },
  {
   "cell_type": "code",
   "execution_count": 17,
   "metadata": {},
   "outputs": [],
   "source": [
    "# continous variables\n",
    "continous_variables = [\"amount_tsh\", \"latitude\", \"longitude\", \"population\"]\n",
    "for var in continous_variables:\n",
    "    vals = ds.normalize(df, var, mode=train_or_test)\n",
    "    ds.add_feature(vals, var)"
   ]
  },
  {
   "cell_type": "code",
   "execution_count": 18,
   "metadata": {},
   "outputs": [],
   "source": [
    "# onehot encodings\n",
    "top_n = None\n",
    "discrete_vars = [\"waterpoint_type\", \"extraction_type\", \"management\", \"payment\", \"water_quality\", \"source\"]\n",
    "#['funder', 'region', 'public_meeting', 'scheme_name', 'permit', 'extraction_type', 'management', 'payment', 'water_quality', 'source', 'waterpoint_type'] \n",
    "#[\"funder\", \"region\", \"installer\", \"payment_type\", \"management\", \"extraction_type\"]\n",
    "for var in discrete_vars:\n",
    "    ds.add_feature(ds.encode(df, var, mode=train_or_test, top_n=top_n), var)"
   ]
  },
  {
   "cell_type": "code",
   "execution_count": 19,
   "metadata": {},
   "outputs": [],
   "source": [
    "label_arr = LabelEncoder().fit_transform(df[\"status_group\"]).reshape(-1, 1)\n",
    "\n",
    "ds.add_label(label_arr)"
   ]
  },
  {
   "cell_type": "code",
   "execution_count": 20,
   "metadata": {},
   "outputs": [],
   "source": [
    "with open(f\"data/{train_or_test}_ds.pkl\", \"wb\") as f:\n",
    "    dump(ds, f)"
   ]
  }
 ],
 "metadata": {
  "kernelspec": {
   "display_name": "Python 3.9.7 64-bit ('base': conda)",
   "language": "python",
   "name": "python3"
  },
  "language_info": {
   "codemirror_mode": {
    "name": "ipython",
    "version": 3
   },
   "file_extension": ".py",
   "mimetype": "text/x-python",
   "name": "python",
   "nbconvert_exporter": "python",
   "pygments_lexer": "ipython3",
   "version": "3.9.7"
  },
  "orig_nbformat": 4,
  "vscode": {
   "interpreter": {
    "hash": "eedbc0dc535c48737cd6555de2640d5e12a8c15981dff35e4ce3fb5ec7467d95"
   }
  }
 },
 "nbformat": 4,
 "nbformat_minor": 2
}
