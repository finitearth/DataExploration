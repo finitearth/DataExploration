{
 "cells": [
  {
   "cell_type": "markdown",
   "metadata": {},
   "source": [
    "## Business Undestanding\n"
   ]
  },
  {
   "cell_type": "markdown",
   "metadata": {},
   "source": [
    "### Bestimmung der Problemstellung: \n",
    "Hier wird an den Anwender die Anforderung gestellt, das Data Mining Projekt betriebswirtschaftlich auszurichten. Dabei werden die operationalen und betriebswirtschaftlichen Zielkriterien formuliert.\n",
    ">Bei der vorliegenden Projektaufgabe gilt es, drei Prognosemodelle zu erstellen, um auf Basis der vorliegenden Daten zu den Brunnen bestimmen zu können, welche der gegebenen Brunnen funktionieren, welche nicht und welche repariert werden müssen. Dabei soll anhand der ML-Pipeline, das heißt dem CRISP-DM Modell vorgegangen werden und die Güte der einzelnen Modelle anhand der AUC auf den Testdaten qualifiziert werden. \n",
    "\n"
   ]
  },
  {
   "cell_type": "markdown",
   "metadata": {},
   "source": [
    "### Situationsbewertung: \n",
    "Durch die Situationsbewertung werden vorhandene Software- sowie Personalressourcen, die für das Data Mining-Projekt zur Verfügung stehen, bestimmt. Zudem sind mögliche Risiken, die während des Data Mining-Projektes auftreten können, aufzuführen.\n",
    ">Bewertung"
   ]
  },
  {
   "cell_type": "markdown",
   "metadata": {},
   "source": [
    "### Bestimmung analytischer Ziele:\n",
    "Ausgehend von der zuvor bestimmten betriebswirtschaftlichen Problemdefinition (z.B. zielgerichtete Ansprache der Kunden) müssen dazu die erforderlichen Datenanalyseaufgaben (z.B. Kundensegmentierung, Scoring-Verfahren zur Kampagnenoptimierung etc.) ermittelt werden. Zudem müssen die Erfolgskriterien für das Data Mining-Projekt bestimmt werden (z.B. Steigerung der Responsequote von Kampagnen um 3% bei weniger Ressourceneinsatz, Ansprache des Kunden nach Verhaltensmustern etc.).\n",
    ">Ziele"
   ]
  },
  {
   "cell_type": "markdown",
   "metadata": {},
   "source": [
    "\n",
    "### Erstellung des Projektplans: \n",
    "Der Projektplan beschreibt die beabsichtigten Ziele des Data Mining-Projektes, dazu gehört:\n",
    "Auflistung der einzelnen Schritte mit Zeitspanne\n",
    "Beurteilung möglicher Risiken (Verzögerungen, Ursachen für ein Scheitern des Projektes etc.)\n",
    "Prüfung der zur Verfügung stehenden Ressourcen (wie Mitarbeiter ; Hardware; Software z.B. Data Warehouse, Data Mining-Werkzeuge; Datenbestand)\n",
    ">Plan"
   ]
  },
  {
   "cell_type": "markdown",
   "metadata": {},
   "source": [
    "## Data Understanding\n"
   ]
  },
  {
   "cell_type": "markdown",
   "metadata": {},
   "source": [
    "### Daten sammeln: \n",
    "Hier werden die benötigten Daten für die Analyse beschaffen und, wenn erforderlich, in bereits bestehende Datenmengen integriert. Der Analyst sollte Probleme, die bei der Datenbeschaffung auftreten, stets dokumentieren, um mögliche Diskrepanzen bei einem Folgeprojekt in der Zukunft zu vermeiden.\n",
    ">Datensätze"
   ]
  },
  {
   "cell_type": "code",
   "execution_count": 1,
   "metadata": {},
   "outputs": [],
   "source": [
    "# Einlesen der vorliegenden Datensätze\n",
    "import pandas as pd\n",
    "train_data = pd.read_csv(\"pump_train.csv\")\n",
    "test_data = pd.read_csv(\"pump_test.csv\")"
   ]
  },
  {
   "cell_type": "markdown",
   "metadata": {},
   "source": [
    "### Daten beschreiben: \n",
    "In diesem Schritt gilt es, ein allgemeines Verständnis für die Daten zu erlangen. Zudem werden die Eigenschaften der Daten beschrieben, wie z.B. Quantität der Daten, Formateigenschaften, Anzahl der Einträge und Felder sowie Eigenschaften der Felder. Die entscheidende Frage die sich der Analyst stellen sollte ist, ob die vorliegenden Daten der Datenanalyse genügen um das Projekt erfolgreich abzuschließen.\n",
    ">Beschreibung der Daten"
   ]
  },
  {
   "cell_type": "code",
   "execution_count": 2,
   "metadata": {},
   "outputs": [
    {
     "name": "stdout",
     "output_type": "stream",
     "text": [
      "<class 'pandas.core.frame.DataFrame'>\n",
      "RangeIndex: 50490 entries, 0 to 50489\n",
      "Data columns (total 41 columns):\n",
      " #   Column                 Non-Null Count  Dtype  \n",
      "---  ------                 --------------  -----  \n",
      " 0   id                     50490 non-null  int64  \n",
      " 1   amount_tsh             50490 non-null  float64\n",
      " 2   date_recorded          50490 non-null  object \n",
      " 3   funder                 47396 non-null  object \n",
      " 4   gps_height             50490 non-null  int64  \n",
      " 5   installer              47380 non-null  object \n",
      " 6   longitude              50490 non-null  float64\n",
      " 7   latitude               50490 non-null  float64\n",
      " 8   wpt_name               50490 non-null  object \n",
      " 9   num_private            50490 non-null  int64  \n",
      " 10  basin                  50490 non-null  object \n",
      " 11  subvillage             50175 non-null  object \n",
      " 12  region                 50490 non-null  object \n",
      " 13  region_code            50490 non-null  int64  \n",
      " 14  district_code          50490 non-null  int64  \n",
      " 15  lga                    50490 non-null  object \n",
      " 16  ward                   50490 non-null  object \n",
      " 17  population             50490 non-null  int64  \n",
      " 18  public_meeting         47644 non-null  object \n",
      " 19  recorded_by            50490 non-null  object \n",
      " 20  scheme_management      47221 non-null  object \n",
      " 21  scheme_name            26548 non-null  object \n",
      " 22  permit                 47899 non-null  object \n",
      " 23  construction_year      50490 non-null  int64  \n",
      " 24  extraction_type        50490 non-null  object \n",
      " 25  extraction_type_group  50490 non-null  object \n",
      " 26  extraction_type_class  50490 non-null  object \n",
      " 27  management             50490 non-null  object \n",
      " 28  management_group       50490 non-null  object \n",
      " 29  payment                50490 non-null  object \n",
      " 30  payment_type           50490 non-null  object \n",
      " 31  water_quality          50490 non-null  object \n",
      " 32  quality_group          50490 non-null  object \n",
      " 33  quantity               50490 non-null  object \n",
      " 34  quantity_group         50490 non-null  object \n",
      " 35  source                 50490 non-null  object \n",
      " 36  source_type            50490 non-null  object \n",
      " 37  source_class           50490 non-null  object \n",
      " 38  waterpoint_type        50490 non-null  object \n",
      " 39  waterpoint_type_group  50490 non-null  object \n",
      " 40  status_group           50490 non-null  object \n",
      "dtypes: float64(3), int64(7), object(31)\n",
      "memory usage: 15.8+ MB\n"
     ]
    }
   ],
   "source": [
    "# Verwenden verschiedener Funktionen, um den Datensatz an sich besser zu beschreiben\n",
    "train_data.info()"
   ]
  },
  {
   "cell_type": "code",
   "execution_count": 3,
   "metadata": {},
   "outputs": [
    {
     "data": {
      "text/html": [
       "<div>\n",
       "<style scoped>\n",
       "    .dataframe tbody tr th:only-of-type {\n",
       "        vertical-align: middle;\n",
       "    }\n",
       "\n",
       "    .dataframe tbody tr th {\n",
       "        vertical-align: top;\n",
       "    }\n",
       "\n",
       "    .dataframe thead th {\n",
       "        text-align: right;\n",
       "    }\n",
       "</style>\n",
       "<table border=\"1\" class=\"dataframe\">\n",
       "  <thead>\n",
       "    <tr style=\"text-align: right;\">\n",
       "      <th></th>\n",
       "      <th>id</th>\n",
       "      <th>amount_tsh</th>\n",
       "      <th>gps_height</th>\n",
       "      <th>longitude</th>\n",
       "      <th>latitude</th>\n",
       "      <th>num_private</th>\n",
       "      <th>region_code</th>\n",
       "      <th>district_code</th>\n",
       "      <th>population</th>\n",
       "      <th>construction_year</th>\n",
       "    </tr>\n",
       "  </thead>\n",
       "  <tbody>\n",
       "    <tr>\n",
       "      <th>count</th>\n",
       "      <td>50490.000000</td>\n",
       "      <td>50490.000000</td>\n",
       "      <td>50490.00000</td>\n",
       "      <td>50490.000000</td>\n",
       "      <td>5.049000e+04</td>\n",
       "      <td>50490.000000</td>\n",
       "      <td>50490.000000</td>\n",
       "      <td>50490.000000</td>\n",
       "      <td>50490.000000</td>\n",
       "      <td>50490.000000</td>\n",
       "    </tr>\n",
       "    <tr>\n",
       "      <th>mean</th>\n",
       "      <td>37113.857695</td>\n",
       "      <td>319.158123</td>\n",
       "      <td>669.71428</td>\n",
       "      <td>34.078591</td>\n",
       "      <td>-5.708336e+00</td>\n",
       "      <td>0.459497</td>\n",
       "      <td>15.280511</td>\n",
       "      <td>5.641731</td>\n",
       "      <td>180.913389</td>\n",
       "      <td>1301.724520</td>\n",
       "    </tr>\n",
       "    <tr>\n",
       "      <th>std</th>\n",
       "      <td>21447.241039</td>\n",
       "      <td>2987.517185</td>\n",
       "      <td>693.12333</td>\n",
       "      <td>6.553382</td>\n",
       "      <td>2.943806e+00</td>\n",
       "      <td>10.413455</td>\n",
       "      <td>17.550035</td>\n",
       "      <td>9.668596</td>\n",
       "      <td>479.854870</td>\n",
       "      <td>951.258506</td>\n",
       "    </tr>\n",
       "    <tr>\n",
       "      <th>min</th>\n",
       "      <td>0.000000</td>\n",
       "      <td>0.000000</td>\n",
       "      <td>-90.00000</td>\n",
       "      <td>0.000000</td>\n",
       "      <td>-1.164838e+01</td>\n",
       "      <td>0.000000</td>\n",
       "      <td>1.000000</td>\n",
       "      <td>0.000000</td>\n",
       "      <td>0.000000</td>\n",
       "      <td>0.000000</td>\n",
       "    </tr>\n",
       "    <tr>\n",
       "      <th>25%</th>\n",
       "      <td>18517.250000</td>\n",
       "      <td>0.000000</td>\n",
       "      <td>0.00000</td>\n",
       "      <td>33.084409</td>\n",
       "      <td>-8.541643e+00</td>\n",
       "      <td>0.000000</td>\n",
       "      <td>5.000000</td>\n",
       "      <td>2.000000</td>\n",
       "      <td>0.000000</td>\n",
       "      <td>0.000000</td>\n",
       "    </tr>\n",
       "    <tr>\n",
       "      <th>50%</th>\n",
       "      <td>37027.500000</td>\n",
       "      <td>0.000000</td>\n",
       "      <td>371.00000</td>\n",
       "      <td>34.906548</td>\n",
       "      <td>-5.019807e+00</td>\n",
       "      <td>0.000000</td>\n",
       "      <td>12.000000</td>\n",
       "      <td>3.000000</td>\n",
       "      <td>25.000000</td>\n",
       "      <td>1986.000000</td>\n",
       "    </tr>\n",
       "    <tr>\n",
       "      <th>75%</th>\n",
       "      <td>55636.750000</td>\n",
       "      <td>20.000000</td>\n",
       "      <td>1322.00000</td>\n",
       "      <td>37.178899</td>\n",
       "      <td>-3.327550e+00</td>\n",
       "      <td>0.000000</td>\n",
       "      <td>17.000000</td>\n",
       "      <td>5.000000</td>\n",
       "      <td>215.750000</td>\n",
       "      <td>2004.000000</td>\n",
       "    </tr>\n",
       "    <tr>\n",
       "      <th>max</th>\n",
       "      <td>74247.000000</td>\n",
       "      <td>350000.000000</td>\n",
       "      <td>2770.00000</td>\n",
       "      <td>40.345193</td>\n",
       "      <td>-2.000000e-08</td>\n",
       "      <td>1402.000000</td>\n",
       "      <td>99.000000</td>\n",
       "      <td>80.000000</td>\n",
       "      <td>30500.000000</td>\n",
       "      <td>2013.000000</td>\n",
       "    </tr>\n",
       "  </tbody>\n",
       "</table>\n",
       "</div>"
      ],
      "text/plain": [
       "                 id     amount_tsh   gps_height     longitude      latitude  \\\n",
       "count  50490.000000   50490.000000  50490.00000  50490.000000  5.049000e+04   \n",
       "mean   37113.857695     319.158123    669.71428     34.078591 -5.708336e+00   \n",
       "std    21447.241039    2987.517185    693.12333      6.553382  2.943806e+00   \n",
       "min        0.000000       0.000000    -90.00000      0.000000 -1.164838e+01   \n",
       "25%    18517.250000       0.000000      0.00000     33.084409 -8.541643e+00   \n",
       "50%    37027.500000       0.000000    371.00000     34.906548 -5.019807e+00   \n",
       "75%    55636.750000      20.000000   1322.00000     37.178899 -3.327550e+00   \n",
       "max    74247.000000  350000.000000   2770.00000     40.345193 -2.000000e-08   \n",
       "\n",
       "        num_private   region_code  district_code    population  \\\n",
       "count  50490.000000  50490.000000   50490.000000  50490.000000   \n",
       "mean       0.459497     15.280511       5.641731    180.913389   \n",
       "std       10.413455     17.550035       9.668596    479.854870   \n",
       "min        0.000000      1.000000       0.000000      0.000000   \n",
       "25%        0.000000      5.000000       2.000000      0.000000   \n",
       "50%        0.000000     12.000000       3.000000     25.000000   \n",
       "75%        0.000000     17.000000       5.000000    215.750000   \n",
       "max     1402.000000     99.000000      80.000000  30500.000000   \n",
       "\n",
       "       construction_year  \n",
       "count       50490.000000  \n",
       "mean         1301.724520  \n",
       "std           951.258506  \n",
       "min             0.000000  \n",
       "25%             0.000000  \n",
       "50%          1986.000000  \n",
       "75%          2004.000000  \n",
       "max          2013.000000  "
      ]
     },
     "execution_count": 3,
     "metadata": {},
     "output_type": "execute_result"
    }
   ],
   "source": [
    "train_data.describe()"
   ]
  },
  {
   "cell_type": "code",
   "execution_count": 4,
   "metadata": {},
   "outputs": [
    {
     "data": {
      "text/html": [
       "<div>\n",
       "<style scoped>\n",
       "    .dataframe tbody tr th:only-of-type {\n",
       "        vertical-align: middle;\n",
       "    }\n",
       "\n",
       "    .dataframe tbody tr th {\n",
       "        vertical-align: top;\n",
       "    }\n",
       "\n",
       "    .dataframe thead th {\n",
       "        text-align: right;\n",
       "    }\n",
       "</style>\n",
       "<table border=\"1\" class=\"dataframe\">\n",
       "  <thead>\n",
       "    <tr style=\"text-align: right;\">\n",
       "      <th></th>\n",
       "      <th>id</th>\n",
       "      <th>amount_tsh</th>\n",
       "      <th>date_recorded</th>\n",
       "      <th>funder</th>\n",
       "      <th>gps_height</th>\n",
       "      <th>installer</th>\n",
       "      <th>longitude</th>\n",
       "      <th>latitude</th>\n",
       "      <th>wpt_name</th>\n",
       "      <th>num_private</th>\n",
       "      <th>...</th>\n",
       "      <th>water_quality</th>\n",
       "      <th>quality_group</th>\n",
       "      <th>quantity</th>\n",
       "      <th>quantity_group</th>\n",
       "      <th>source</th>\n",
       "      <th>source_type</th>\n",
       "      <th>source_class</th>\n",
       "      <th>waterpoint_type</th>\n",
       "      <th>waterpoint_type_group</th>\n",
       "      <th>status_group</th>\n",
       "    </tr>\n",
       "  </thead>\n",
       "  <tbody>\n",
       "    <tr>\n",
       "      <th>0</th>\n",
       "      <td>12237</td>\n",
       "      <td>30.0</td>\n",
       "      <td>2013-01-23</td>\n",
       "      <td>Government Of Tanzania</td>\n",
       "      <td>107</td>\n",
       "      <td>District Council</td>\n",
       "      <td>39.360880</td>\n",
       "      <td>-10.295705</td>\n",
       "      <td>Zahanati Membe</td>\n",
       "      <td>0</td>\n",
       "      <td>...</td>\n",
       "      <td>soft</td>\n",
       "      <td>good</td>\n",
       "      <td>enough</td>\n",
       "      <td>enough</td>\n",
       "      <td>river</td>\n",
       "      <td>river/lake</td>\n",
       "      <td>surface</td>\n",
       "      <td>communal standpipe multiple</td>\n",
       "      <td>communal standpipe</td>\n",
       "      <td>functional</td>\n",
       "    </tr>\n",
       "    <tr>\n",
       "      <th>1</th>\n",
       "      <td>24566</td>\n",
       "      <td>0.0</td>\n",
       "      <td>2013-02-07</td>\n",
       "      <td>Private Individual</td>\n",
       "      <td>0</td>\n",
       "      <td>Edward</td>\n",
       "      <td>32.644074</td>\n",
       "      <td>-3.859265</td>\n",
       "      <td>Kwa Mama Wini</td>\n",
       "      <td>0</td>\n",
       "      <td>...</td>\n",
       "      <td>soft</td>\n",
       "      <td>good</td>\n",
       "      <td>insufficient</td>\n",
       "      <td>insufficient</td>\n",
       "      <td>shallow well</td>\n",
       "      <td>shallow well</td>\n",
       "      <td>groundwater</td>\n",
       "      <td>other</td>\n",
       "      <td>other</td>\n",
       "      <td>functional</td>\n",
       "    </tr>\n",
       "    <tr>\n",
       "      <th>2</th>\n",
       "      <td>20536</td>\n",
       "      <td>0.0</td>\n",
       "      <td>2011-07-15</td>\n",
       "      <td>Sawaka</td>\n",
       "      <td>0</td>\n",
       "      <td>DWE</td>\n",
       "      <td>30.999792</td>\n",
       "      <td>-1.721771</td>\n",
       "      <td>Kwasimon</td>\n",
       "      <td>0</td>\n",
       "      <td>...</td>\n",
       "      <td>soft</td>\n",
       "      <td>good</td>\n",
       "      <td>enough</td>\n",
       "      <td>enough</td>\n",
       "      <td>shallow well</td>\n",
       "      <td>shallow well</td>\n",
       "      <td>groundwater</td>\n",
       "      <td>other</td>\n",
       "      <td>other</td>\n",
       "      <td>non functional</td>\n",
       "    </tr>\n",
       "    <tr>\n",
       "      <th>3</th>\n",
       "      <td>30633</td>\n",
       "      <td>200.0</td>\n",
       "      <td>2011-03-25</td>\n",
       "      <td>Government Of Tanzania</td>\n",
       "      <td>2142</td>\n",
       "      <td>Commu</td>\n",
       "      <td>34.060324</td>\n",
       "      <td>-9.335288</td>\n",
       "      <td>none</td>\n",
       "      <td>0</td>\n",
       "      <td>...</td>\n",
       "      <td>soft</td>\n",
       "      <td>good</td>\n",
       "      <td>enough</td>\n",
       "      <td>enough</td>\n",
       "      <td>spring</td>\n",
       "      <td>spring</td>\n",
       "      <td>groundwater</td>\n",
       "      <td>communal standpipe</td>\n",
       "      <td>communal standpipe</td>\n",
       "      <td>functional</td>\n",
       "    </tr>\n",
       "    <tr>\n",
       "      <th>4</th>\n",
       "      <td>2993</td>\n",
       "      <td>0.0</td>\n",
       "      <td>2011-02-17</td>\n",
       "      <td>African Muslim Agency</td>\n",
       "      <td>290</td>\n",
       "      <td>District Council</td>\n",
       "      <td>38.862874</td>\n",
       "      <td>-7.165410</td>\n",
       "      <td>Msikitini</td>\n",
       "      <td>0</td>\n",
       "      <td>...</td>\n",
       "      <td>soft</td>\n",
       "      <td>good</td>\n",
       "      <td>dry</td>\n",
       "      <td>dry</td>\n",
       "      <td>machine dbh</td>\n",
       "      <td>borehole</td>\n",
       "      <td>groundwater</td>\n",
       "      <td>hand pump</td>\n",
       "      <td>hand pump</td>\n",
       "      <td>non functional</td>\n",
       "    </tr>\n",
       "  </tbody>\n",
       "</table>\n",
       "<p>5 rows × 41 columns</p>\n",
       "</div>"
      ],
      "text/plain": [
       "      id  amount_tsh date_recorded                  funder  gps_height  \\\n",
       "0  12237        30.0    2013-01-23  Government Of Tanzania         107   \n",
       "1  24566         0.0    2013-02-07      Private Individual           0   \n",
       "2  20536         0.0    2011-07-15                  Sawaka           0   \n",
       "3  30633       200.0    2011-03-25  Government Of Tanzania        2142   \n",
       "4   2993         0.0    2011-02-17   African Muslim Agency         290   \n",
       "\n",
       "          installer  longitude   latitude        wpt_name  num_private  ...  \\\n",
       "0  District Council  39.360880 -10.295705  Zahanati Membe            0  ...   \n",
       "1            Edward  32.644074  -3.859265   Kwa Mama Wini            0  ...   \n",
       "2               DWE  30.999792  -1.721771        Kwasimon            0  ...   \n",
       "3             Commu  34.060324  -9.335288            none            0  ...   \n",
       "4  District Council  38.862874  -7.165410       Msikitini            0  ...   \n",
       "\n",
       "  water_quality quality_group      quantity  quantity_group        source  \\\n",
       "0          soft          good        enough          enough         river   \n",
       "1          soft          good  insufficient    insufficient  shallow well   \n",
       "2          soft          good        enough          enough  shallow well   \n",
       "3          soft          good        enough          enough        spring   \n",
       "4          soft          good           dry             dry   machine dbh   \n",
       "\n",
       "    source_type source_class              waterpoint_type  \\\n",
       "0    river/lake      surface  communal standpipe multiple   \n",
       "1  shallow well  groundwater                        other   \n",
       "2  shallow well  groundwater                        other   \n",
       "3        spring  groundwater           communal standpipe   \n",
       "4      borehole  groundwater                    hand pump   \n",
       "\n",
       "  waterpoint_type_group    status_group  \n",
       "0    communal standpipe      functional  \n",
       "1                 other      functional  \n",
       "2                 other  non functional  \n",
       "3    communal standpipe      functional  \n",
       "4             hand pump  non functional  \n",
       "\n",
       "[5 rows x 41 columns]"
      ]
     },
     "execution_count": 4,
     "metadata": {},
     "output_type": "execute_result"
    }
   ],
   "source": [
    "train_data.head()"
   ]
  },
  {
   "cell_type": "code",
   "execution_count": 5,
   "metadata": {},
   "outputs": [
    {
     "data": {
      "text/plain": [
       "(50490, 41)"
      ]
     },
     "execution_count": 5,
     "metadata": {},
     "output_type": "execute_result"
    }
   ],
   "source": [
    "train_data.shape"
   ]
  },
  {
   "cell_type": "markdown",
   "metadata": {},
   "source": [
    "### Untersuchung der Daten: \n",
    "Zur Untersuchung der Daten werden erste Analysen mit den Daten betrieben. Hierzu werden Reports erstellt, um die ersten Erkenntnisse und Hypothesen zu visualisieren.\n",
    ">erste Erkenntnisse/ Hypothesen"
   ]
  },
  {
   "cell_type": "markdown",
   "metadata": {},
   "source": [
    "### Bewertung der Daten: \n",
    "An diesem Punkt wird die Qualität des Datenbestandes bewertet. Es sollte festgestellt werden, ob die Datenmenge für die Analyse ausreichend und verwendbar ist. Besonders ist auf fehlende Attributwerte zu achten.\n",
    ">Bewertung der Daten"
   ]
  },
  {
   "cell_type": "markdown",
   "metadata": {},
   "source": [
    "## Data Preperation"
   ]
  },
  {
   "cell_type": "markdown",
   "metadata": {},
   "source": [
    "### Auswahl der Daten:\n",
    "Die Auswahl der Daten für das Data Mining hängt stark von den Zielen ab, die man für das Data Mining-Projekt definiert. Hier spielen die Datenqualität und die technischen Gegebenheiten eine große Rolle. Es wird eine Selektion der Daten vorgenommen, wie z.B. eine Auswahl aller Kunden, die einen Umsatz von mehr als 100 Euro im Monat generieren. Am Ende dieses Prozesses sollte sich deutlich zeigen, welche Datenmengen(-Sets) in die Analyse aufgenommen werden oder ausgeschlossen werden.\n",
    ">Auswahl der Daten"
   ]
  },
  {
   "cell_type": "markdown",
   "metadata": {},
   "source": [
    "### Bereinigung der Daten: \n",
    "Ohne eine Bereinigung der Daten ist ein erfolgreiches Data Mining-Projekt fraglich. Es gilt eine saubere Datenmenge auszuwählen oder die Datenmenge muss bereinigt sein, um das gewünschte Ergebnis in der Modellierung zu erreichen.\n",
    ">Bereinigung"
   ]
  },
  {
   "cell_type": "markdown",
   "metadata": {},
   "source": [
    "### Transformation und Integration der Daten: \n",
    "Um die Daten in eine brauchbare Darstellungsform zu bringen, transformiert man die Daten. Die Transformation kodiert Daten und verändert deren Granularität durch Aggregation oder Disaggregation. Wichtige Kennzahlen, die für eine Analyse zu erstellen sind, könnten z.B. Umsatz pro Kunde, Deckungsbeitrag pro Kunde oder Umsatzanteil in Produktgruppe pro Kunde etc. sein.\n",
    ">Transformation"
   ]
  },
  {
   "cell_type": "markdown",
   "metadata": {},
   "source": [
    "### Format Data: \n",
    "In einigen Fällen muss für die Modellierung eine einfache Anpassung des Datenformates erfolgen, z.B. Anpassung des Datentyps.\n",
    ">Anpassung der Daten"
   ]
  },
  {
   "cell_type": "markdown",
   "metadata": {},
   "source": [
    "## Modeling"
   ]
  },
  {
   "cell_type": "markdown",
   "metadata": {},
   "source": [
    "### Auswahl der Modellierungstechnik: \n",
    "Hier gilt es eine Modellierungstechnik auswählen, mit der man das Modell erstellt\n",
    ">Aufzählung der möglichen Modelle"
   ]
  },
  {
   "cell_type": "markdown",
   "metadata": {},
   "source": [
    "### Testmodell erstellen: \n",
    "Nach Auswahl des Modells wird ein Testmodell erstellt, um Qualität und Genauigkeit des Modells zu überprüfen. In überwachten Verfahren, wie der Klassifikation, ist es üblich, die Fehlerraten als Qualitätsmaß zu nutzen.\n",
    ">Durchführung aller Modelle"
   ]
  },
  {
   "cell_type": "markdown",
   "metadata": {},
   "source": [
    "### Bewertung des Modells: \n",
    "Hier ist das Modell nach der im Vorfeld definierten Data Mining-Zielsetzung zu bewerten. Des Weiteren gilt es die Data Mining-Ergebnisse in Bezug auf die betriebswirtschaftliche Fragestellung zu bewerten.\n",
    ">Bewertung der Testmodelle, Auswahl des besten für die einzelnen drei Modelle"
   ]
  },
  {
   "cell_type": "markdown",
   "metadata": {},
   "source": [
    "## Evaluation"
   ]
  },
  {
   "cell_type": "markdown",
   "metadata": {},
   "source": [
    "### Bewerten der Resultate: \n",
    "In diesem Schritt bewertet man, inwieweit das Modell die Projektziele erreicht. Wenn die Ziele nicht erreicht sind, ist aufzuführen, aus welchen Gründen.\n",
    ">RUC,...Bewerten"
   ]
  },
  {
   "cell_type": "markdown",
   "metadata": {},
   "source": [
    "### Bewertung des Prozesses: \n",
    "Das Data Mining-Projekt wird rückblickend bewertet. Es wird festgestellt, ob alle wichtigen Faktoren betrachtet wurden und inwieweit die Attribute für zukünftige Data Mining-Projekte zu nutzen sind.\n",
    ">Analyse, Bewertung"
   ]
  },
  {
   "cell_type": "markdown",
   "metadata": {},
   "source": [
    "### Nächste Schritte festlegen: \n",
    "In diesem Schritt entscheidet der Projektleiter, ob das Projekt beendet ist und eingeführt wird.\n",
    ">Ausblick geben"
   ]
  },
  {
   "cell_type": "markdown",
   "metadata": {},
   "source": [
    "## Deployment"
   ]
  },
  {
   "cell_type": "markdown",
   "metadata": {},
   "source": [
    "Die Deployment-Phase bildet in der Regel die Endphase eines Data Mining-Projektes. Hier werden die gewonnenen Erkenntnisse so geordnet und präsentiert, sodass für den Auftraggeber die Möglichkeit besteht dieses Wissen zu nutzen. Dazu gehört eine eventuelle Implementierungsstrategie, die Überwachung der Gültigkeit der Modelle, ein zusammenfassender Bericht und eine Präsentation.\n",
    ">Fazit"
   ]
  },
  {
   "cell_type": "markdown",
   "metadata": {},
   "source": [
    "CRISP-DM Modell Grundlagen vgl. https://datasolut.com/crisp-dm-standard/amp/"
   ]
  },
  {
   "cell_type": "markdown",
   "metadata": {},
   "source": []
  }
 ],
 "metadata": {
  "kernelspec": {
   "display_name": "Python 3.8.13 ('DataExploration')",
   "language": "python",
   "name": "python3"
  },
  "language_info": {
   "codemirror_mode": {
    "name": "ipython",
    "version": 3
   },
   "file_extension": ".py",
   "mimetype": "text/x-python",
   "name": "python",
   "nbconvert_exporter": "python",
   "pygments_lexer": "ipython3",
   "version": "3.8.13"
  },
  "orig_nbformat": 4,
  "vscode": {
   "interpreter": {
    "hash": "d41dff2f2a44b3340f5ea0aa63fd1a83dc41137cceaf1156ffff65a164519859"
   }
  }
 },
 "nbformat": 4,
 "nbformat_minor": 2
}
