{
 "cells": [
  {
   "cell_type": "markdown",
   "metadata": {},
   "source": [
    "=> um welche Datentypen es sich handelt => ersetzen mit mean oder median oder eventuell Random Forest, um Daten hervorzusagen\\\n",
    "=> Umgang mit Ausreißern"
   ]
  },
  {
   "cell_type": "markdown",
   "metadata": {},
   "source": [
    "=> source to be eliminated"
   ]
  },
  {
   "cell_type": "markdown",
   "metadata": {},
   "source": [
    "=> eliminate water_quality"
   ]
  },
  {
   "cell_type": "markdown",
   "metadata": {},
   "source": [
    "=> public_meeting might have influence on the status_group"
   ]
  },
  {
   "cell_type": "markdown",
   "metadata": {},
   "source": [
    "=> region obviously doesnt have any influence"
   ]
  },
  {
   "cell_type": "markdown",
   "metadata": {},
   "source": [
    "umwandeln von permit und public_meeting von boolean nach int"
   ]
  },
  {
   "cell_type": "code",
   "execution_count": null,
   "metadata": {},
   "outputs": [],
   "source": [
    "train_data.permit = train_data.permit.astype(bool).astype(int)\n",
    "train_data.public_meeting = train_data.public_meeting.astype(bool).astype(int)"
   ]
  },
  {
   "cell_type": "code",
   "execution_count": null,
   "metadata": {},
   "outputs": [],
   "source": [
    "# umwandeln der Strings von status_group in Encoding\n",
    "# process labels\n",
    "label_dict_status_group = {'functional':0,\n",
    "                   'non functional': 1,\n",
    "                   'functional needs repair': 2}\n",
    "train_labels.status_group = train_labels.status_group.replace(label_dict_status_group)"
   ]
  }
 ],
 "metadata": {
  "kernelspec": {
   "display_name": "Python 3.9.7 64-bit ('base': conda)",
   "language": "python",
   "name": "python3"
  },
  "language_info": {
   "codemirror_mode": {
    "name": "ipython",
    "version": 3
   },
   "file_extension": ".py",
   "mimetype": "text/x-python",
   "name": "python",
   "nbconvert_exporter": "python",
   "pygments_lexer": "ipython3",
   "version": "3.9.7"
  },
  "orig_nbformat": 4,
  "vscode": {
   "interpreter": {
    "hash": "eedbc0dc535c48737cd6555de2640d5e12a8c15981dff35e4ce3fb5ec7467d95"
   }
  }
 },
 "nbformat": 4,
 "nbformat_minor": 2
}
