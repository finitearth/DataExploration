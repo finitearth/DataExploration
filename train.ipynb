{
 "cells": [
  {
   "cell_type": "code",
   "execution_count": 1,
   "metadata": {},
   "outputs": [],
   "source": [
    "import xgboost as xgb\n",
    "from pickle import dump, load\n",
    "from utils import Dataset"
   ]
  },
  {
   "cell_type": "code",
   "execution_count": 2,
   "metadata": {},
   "outputs": [],
   "source": [
    "hp = {\n",
    "    \n",
    "}"
   ]
  },
  {
   "cell_type": "code",
   "execution_count": 3,
   "metadata": {},
   "outputs": [
    {
     "ename": "AttributeError",
     "evalue": "'Dataset' object has no attribute 'get_names'",
     "output_type": "error",
     "traceback": [
      "\u001b[1;31m---------------------------------------------------------------------------\u001b[0m",
      "\u001b[1;31mAttributeError\u001b[0m                            Traceback (most recent call last)",
      "\u001b[1;32mc:\\Users\\tzehl\\OneDrive\\Desktop\\$$\\AOT\\DataExploration\\train.ipynb Zelle 3\u001b[0m in \u001b[0;36m<cell line: 4>\u001b[1;34m()\u001b[0m\n\u001b[0;32m      <a href='vscode-notebook-cell:/c%3A/Users/tzehl/OneDrive/Desktop/%24%24%24/AOT/DataExploration/train.ipynb#ch0000002?line=0'>1</a>\u001b[0m \u001b[39mwith\u001b[39;00m \u001b[39mopen\u001b[39m(\u001b[39m\"\u001b[39m\u001b[39mdata/train_ds.pkl\u001b[39m\u001b[39m\"\u001b[39m, \u001b[39m\"\u001b[39m\u001b[39mrb\u001b[39m\u001b[39m\"\u001b[39m) \u001b[39mas\u001b[39;00m f:\n\u001b[0;32m      <a href='vscode-notebook-cell:/c%3A/Users/tzehl/OneDrive/Desktop/%24%24%24/AOT/DataExploration/train.ipynb#ch0000002?line=1'>2</a>\u001b[0m     ds \u001b[39m=\u001b[39m load(f)\n\u001b[1;32m----> <a href='vscode-notebook-cell:/c%3A/Users/tzehl/OneDrive/Desktop/%24%24%24/AOT/DataExploration/train.ipynb#ch0000002?line=3'>4</a>\u001b[0m X, y, names \u001b[39m=\u001b[39m ds\u001b[39m.\u001b[39mget_X(), ds\u001b[39m.\u001b[39mget_y(), ds\u001b[39m.\u001b[39;49mget_names()\n",
      "\u001b[1;31mAttributeError\u001b[0m: 'Dataset' object has no attribute 'get_names'"
     ]
    }
   ],
   "source": [
    "with open(\"data/train_ds.pkl\", \"rb\") as f:\n",
    "    ds = load(f)\n",
    "\n",
    "X, y, names = ds.get_X(), ds.get_y(), ds.get_feature_names()"
   ]
  },
  {
   "cell_type": "code",
   "execution_count": null,
   "metadata": {},
   "outputs": [],
   "source": [
    "model = xgb.XGBClassifier(objective=\"multi:softmax\")"
   ]
  },
  {
   "cell_type": "code",
   "execution_count": null,
   "metadata": {},
   "outputs": [],
   "source": [
    "model = model.fit(X, y, verbose=10000)"
   ]
  },
  {
   "cell_type": "code",
   "execution_count": null,
   "metadata": {},
   "outputs": [],
   "source": [
    "with open(\"models/first_try\", \"wb\") as f:\n",
    "    dump(model, f)"
   ]
  },
  {
   "cell_type": "code",
   "execution_count": null,
   "metadata": {},
   "outputs": [],
   "source": []
  }
 ],
 "metadata": {
  "kernelspec": {
   "display_name": "Python 3.9.7 64-bit",
   "language": "python",
   "name": "python3"
  },
  "language_info": {
   "codemirror_mode": {
    "name": "ipython",
    "version": 3
   },
   "file_extension": ".py",
   "mimetype": "text/x-python",
   "name": "python",
   "nbconvert_exporter": "python",
   "pygments_lexer": "ipython3",
   "version": "3.9.7"
  },
  "orig_nbformat": 4,
  "vscode": {
   "interpreter": {
    "hash": "c9309f4655a6e08fe7b4fad0cdc3d9031b4982237b7570eec3e14a0e8207bb52"
   }
  }
 },
 "nbformat": 4,
 "nbformat_minor": 2
}
